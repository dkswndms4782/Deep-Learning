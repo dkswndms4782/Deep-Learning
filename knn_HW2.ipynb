{
  "nbformat": 4,
  "nbformat_minor": 0,
  "metadata": {
    "colab": {
      "name": "knn_HW2.ipynb",
      "provenance": [],
      "collapsed_sections": [],
      "authorship_tag": "ABX9TyPZDPXEuVPbHHTtN2Ihfm9G",
      "include_colab_link": true
    },
    "kernelspec": {
      "name": "python3",
      "display_name": "Python 3"
    }
  },
  "cells": [
    {
      "cell_type": "markdown",
      "metadata": {
        "id": "view-in-github",
        "colab_type": "text"
      },
      "source": [
        "<a href=\"https://colab.research.google.com/github/dkswndms4782/Deep-Learning/blob/main/knn_HW2.ipynb\" target=\"_parent\"><img src=\"https://colab.research.google.com/assets/colab-badge.svg\" alt=\"Open In Colab\"/></a>"
      ]
    },
    {
      "cell_type": "code",
      "metadata": {
        "id": "QYsg-6WIxoKJ",
        "colab": {
          "base_uri": "https://localhost:8080/",
          "height": 181
        },
        "outputId": "341459c5-70e8-4508-8aee-f66f6a05b31f"
      },
      "source": [
        "from google.colab import drive\n",
        "drive.mount('/gdrive')\n",
        "drive.mount('/content/gdrive')\n",
        "\n",
        "import numpy as np \n",
        "import pandas as pd\n",
        "import matplotlib.pyplot as plt\n",
        "import seaborn as sns\n",
        "from decimal import Decimal\n",
        "import warnings\n",
        "warnings.filterwarnings('ignore')\n",
        "\n",
        "column = pd.read_csv('./gdrive/My Drive/HW2/experiments.csv',header = None)\n",
        "ribo_data = pd.read_csv('./gdrive/My Drive/HW2/ribo-data.csv',header = None)\n",
        "nonribo_data = pd.read_csv('./gdrive/My Drive/HW2/nonribo-data.csv',header = None)"
      ],
      "execution_count": null,
      "outputs": [
        {
          "output_type": "stream",
          "text": [
            "Go to this URL in a browser: https://accounts.google.com/o/oauth2/auth?client_id=947318989803-6bn6qk8qdgf4n4g3pfee6491hc0brc4i.apps.googleusercontent.com&redirect_uri=urn%3aietf%3awg%3aoauth%3a2.0%3aoob&response_type=code&scope=email%20https%3a%2f%2fwww.googleapis.com%2fauth%2fdocs.test%20https%3a%2f%2fwww.googleapis.com%2fauth%2fdrive%20https%3a%2f%2fwww.googleapis.com%2fauth%2fdrive.photos.readonly%20https%3a%2f%2fwww.googleapis.com%2fauth%2fpeopleapi.readonly\n",
            "\n",
            "Enter your authorization code:\n",
            "··········\n",
            "Mounted at /gdrive\n",
            "Mounted at /content/gdrive\n"
          ],
          "name": "stdout"
        },
        {
          "output_type": "stream",
          "text": [
            "/usr/local/lib/python3.6/dist-packages/statsmodels/tools/_testing.py:19: FutureWarning: pandas.util.testing is deprecated. Use the functions in the public API at pandas.testing instead.\n",
            "  import pandas.util.testing as tm\n"
          ],
          "name": "stderr"
        }
      ]
    },
    {
      "cell_type": "code",
      "metadata": {
        "id": "LIjQ0c4wCmBS"
      },
      "source": [
        "def make_arr(data,isribo):\n",
        "   sz = len(data)\n",
        "   data1 = [isribo for i in range(sz)]\n",
        "   data1_ = [i for i in range(sz)]#index 0번째 부터 매기기 위해 0부터 sz까지의 데이터 만듦\n",
        "   temp = pd.Series(data1)\n",
        "   temp_ = pd.Series(data1_)\n",
        "   data[\"index\"] = temp_# index만들기\n",
        "   data['isRibo'] = temp"
      ],
      "execution_count": null,
      "outputs": []
    },
    {
      "cell_type": "code",
      "metadata": {
        "id": "OPmrQgP3FN_P"
      },
      "source": [
        " make_arr(ribo_data,1)\n",
        " make_arr(nonribo_data,0)"
      ],
      "execution_count": null,
      "outputs": []
    },
    {
      "cell_type": "code",
      "metadata": {
        "id": "hhQR44n-2aHh"
      },
      "source": [
        "def knn(ribo_data,nonribo_data,test_data,k,p):\n",
        " ribo = ribo_data.to_numpy(dtype = Decimal)   # numpy배열로 바꾸기. 데이터 타임 Decimal로 안해주면 e지수표기법으로 나타나서 해줌.\n",
        " nonribo = nonribo_data.to_numpy(dtype = Decimal)\n",
        " test = test_data.to_numpy(dtype = Decimal)\n",
        " train = np.concatenate((ribo,nonribo),axis = 0) # ribo 와 nonribo합치기.\n",
        "\n",
        " x_train = train[0:,0:80] #X_train에는 데이터의 특성을 담음\n",
        " y_train = train[0:,80:81] #y_train에는 리보솜인지 아닌지. \n",
        " x_test = test[0: , 0:80]\n",
        " y_test = test[0: , 80:81]\n",
        "\n",
        " # \"\"\"테스트 세트 X_test의 각 점들마다,\n",
        "  #      1) 학습 세트에 있는 모든 점들과의 거리를 계산.\n",
        "   #     2) 계산된 거리들 중에서 가장 짧은 거리 k개를 선택.\n",
        "    #    3) k개 선택된 레이블들 중에서 리보솜인 것들이 p 퍼센트를 넘는지 안넘는지로 리보솜인지 아닌지의 값을 판단 함.\"\"\"\n",
        "       \n",
        " predicts = []\n",
        " for test_pt in test:\n",
        "    temp = []\n",
        "    for train_pt in train:\n",
        "      d = np.sqrt(np.sum(train_pt - test_pt)**2) #유클리드 거리측정법으로 거리 측정\n",
        "      temp.append((d,train_pt[79],train_pt[80])) # index와 리보솜인지 아닌지의 값을 temp배열에 넣어줌\n",
        "    temp.sort()\n",
        "    tmp = temp[:k] #k개까지만 추출\n",
        "    count_ribo = 0\n",
        "    count_nonribo = 0\n",
        "    for tmp_pt in tmp:\n",
        "      if tmp_pt[2] == 0:\n",
        "        count_nonribo += 1\n",
        "      elif tmp_pt[2] == 1:\n",
        "        count_ribo += 1\n",
        "    if round(count_ribo / (count_ribo + count_nonribo),2) >= p: #리봄솜의 퍼센트가 p를 넘으면 1로 할당\n",
        "      predicts.append((test_pt[79],1))\n",
        "    elif round(count_ribo / (count_ribo + count_nonribo),2) < p:#아니면 0으로 할당\n",
        "      predicts.append((test_pt[79],0))\n",
        "\n",
        " count_corect_ribo = 0\n",
        " count_corect_nonribo = 0\n",
        " count_just_ribo = 0\n",
        " count_just_nonribo = 0\n",
        " count = 0\n",
        " n = []\n",
        "\n",
        " for pred in predicts: #TN , TP, FP , FN개수 세기\n",
        "  if pred[1] == 1:\n",
        "    if test[count][80] == 1:\n",
        "      count_corect_ribo += 1\n",
        "    else : n.append(pred)\n",
        "    count_just_ribo += 1\n",
        "  elif pred[1] == 0:\n",
        "    if test[count][80] == 0:\n",
        "      count_corect_nonribo += 1\n",
        "    count_just_nonribo += 1\n",
        "    count+=1\n",
        "\n",
        " print(n)\n",
        "\n",
        " print(\"k: \" , k , \"\\np: \" , p , \"\\nsensitivity: \" , #sensitivity,specitivity,accuracy print하기\n",
        "       round(count_corect_ribo/count_just_ribo,2) , \"\\nspecificity: \" ,\n",
        "       round(count_corect_nonribo/count_just_nonribo,2) , \"\\naccuracy: \",\n",
        "       round((count_corect_ribo + count_corect_nonribo)/(count_just_ribo + count_just_nonribo),2))\n",
        "\n",
        " return k,p, round(count_corect_ribo/count_just_ribo,2) , round(count_corect_nonribo/count_just_nonribo,2), round((count_corect_ribo + count_corect_nonribo)/(count_just_ribo + count_just_nonribo),2)"
      ],
      "execution_count": null,
      "outputs": []
    },
    {
      "cell_type": "code",
      "metadata": {
        "id": "mYPxRAanzVF_",
        "colab": {
          "base_uri": "https://localhost:8080/",
          "height": 665
        },
        "outputId": "7463112b-35df-4dfa-8113-ff846c9bbff6"
      },
      "source": [
        "#Cross-Validation \n",
        "ribo_set = []\n",
        "nonribo_set = []\n",
        "for i in range(0,6): #6개로 나눠서 ribo_set 과 nonribo_set으로 나눔\n",
        "  ribo_set.append(ribo_data.sample(frac = round(1/6,2))) \n",
        "  nonribo_set.append(nonribo_data.sample(frac = round(1/6,2)))\n",
        "\n",
        "knn_out = []\n",
        "for i in range(0,6): \n",
        "  ribo_tmp = ribo_data\n",
        "  nonribo_tmp = nonribo_data\n",
        "  ribo_tmp = ribo_tmp.drop(ribo_set[i][\"index\"]) #6개중 1개 드롭하는 과정\n",
        "  nonribo_tmp = nonribo_tmp.drop(nonribo_set[i][\"index\"]) \n",
        "  test_data = pd.concat([ribo_set[i],nonribo_set[i]]) #드롭한 set 하나로 합치기\n",
        "  knn_out.append(knn(ribo_tmp,nonribo_tmp,test_data,5,0.75))"
      ],
      "execution_count": null,
      "outputs": [
        {
          "output_type": "stream",
          "text": [
            "[(7.0, 1)]\n",
            "k:  5 \n",
            "p:  0.75 \n",
            "sensitivity:  0.92 \n",
            "specificity:  0.95 \n",
            "accuracy:  0.95\n",
            "[(21.0, 1), (11.0, 1), (3.0, 1), (5.0, 1), (13.0, 1), (87.0, 1), (93.0, 1)]\n",
            "k:  5 \n",
            "p:  0.75 \n",
            "sensitivity:  0.59 \n",
            "specificity:  0.95 \n",
            "accuracy:  0.93\n",
            "[(47.0, 1), (84.0, 1)]\n",
            "k:  5 \n",
            "p:  0.75 \n",
            "sensitivity:  0.82 \n",
            "specificity:  0.95 \n",
            "accuracy:  0.95\n",
            "[(84.0, 1), (2.0, 1), (92.0, 1), (90.0, 1)]\n",
            "k:  5 \n",
            "p:  0.75 \n",
            "sensitivity:  0.71 \n",
            "specificity:  0.95 \n",
            "accuracy:  0.94\n",
            "[(5.0, 1), (1.0, 1), (16.0, 1), (2.0, 1)]\n",
            "k:  5 \n",
            "p:  0.75 \n",
            "sensitivity:  0.6 \n",
            "specificity:  0.95 \n",
            "accuracy:  0.94\n",
            "[(55.0, 1), (20.0, 1), (3.0, 1), (21.0, 1), (87.0, 1)]\n",
            "k:  5 \n",
            "p:  0.75 \n",
            "sensitivity:  0.67 \n",
            "specificity:  0.95 \n",
            "accuracy:  0.94\n"
          ],
          "name": "stdout"
        }
      ]
    },
    {
      "cell_type": "code",
      "metadata": {
        "id": "ML5qxTZ4pFqX",
        "colab": {
          "base_uri": "https://localhost:8080/",
          "height": 125
        },
        "outputId": "015d8caf-9c63-45f9-efff-053d34914cf2"
      },
      "source": [
        "  knn_out #결과"
      ],
      "execution_count": null,
      "outputs": [
        {
          "output_type": "execute_result",
          "data": {
            "text/plain": [
              "[(5, 0.75, 0.7, 0.95, 0.94),\n",
              " (5, 0.75, 0.82, 0.95, 0.95),\n",
              " (5, 0.75, 0.64, 0.95, 0.94),\n",
              " (5, 0.75, 0.89, 0.95, 0.95),\n",
              " (5, 0.75, 0.75, 0.95, 0.94),\n",
              " (5, 0.75, 0.73, 0.95, 0.94)]"
            ]
          },
          "metadata": {
            "tags": []
          },
          "execution_count": 56
        }
      ]
    },
    {
      "cell_type": "code",
      "metadata": {
        "id": "YzixU3m-pOA4"
      },
      "source": [
        "sensitivity_tmp = 0\n",
        "specificity_tmp = 0\n",
        "accuracy_tmp = 0\n",
        "for i in range(0,6):\n",
        "  sensitivity_tmp += knn_out[i][2]\n",
        "  specificity_tmp += knn_out[i][3]\n",
        "  accuracy_tmp += knn_out[i][4]\n",
        "\n",
        "sensitivity_tmp /= 6 #sensitivity평균 구하기\n",
        "specificity_tmp /= 6 #specitivity 평균\n",
        "accuracy_tmp /= 6 #accuracy평균 구하기\n",
        "\n",
        "knn_out.append((5,0.5,sensitivity_tmp,specificity_tmp,accuracy_tmp)) #knn_out의 마지막에 넣어줌"
      ],
      "execution_count": null,
      "outputs": []
    }
  ]
}