{
  "nbformat": 4,
  "nbformat_minor": 0,
  "metadata": {
    "colab": {
      "name": "ucl_HAR.ipynb",
      "provenance": [],
      "collapsed_sections": [],
      "toc_visible": true,
      "include_colab_link": true
    },
    "kernelspec": {
      "name": "python3",
      "display_name": "Python 3"
    },
    "accelerator": "GPU"
  },
  "cells": [
    {
      "cell_type": "markdown",
      "metadata": {
        "id": "view-in-github",
        "colab_type": "text"
      },
      "source": [
        "<a href=\"https://colab.research.google.com/github/dkswndms4782/Deep-Learning/blob/main/ucl_HAR.ipynb\" target=\"_parent\"><img src=\"https://colab.research.google.com/assets/colab-badge.svg\" alt=\"Open In Colab\"/></a>"
      ]
    },
    {
      "cell_type": "code",
      "metadata": {
        "id": "e6ij4Ca_FVPH",
        "colab": {
          "base_uri": "https://localhost:8080/",
          "height": 122
        },
        "outputId": "2eb9e8f8-4fca-4fb5-fb58-caf5d46752f1"
      },
      "source": [
        "from google.colab import drive\n",
        "drive.mount('/content/gdrive')"
      ],
      "execution_count": null,
      "outputs": [
        {
          "output_type": "stream",
          "text": [
            "Go to this URL in a browser: https://accounts.google.com/o/oauth2/auth?client_id=947318989803-6bn6qk8qdgf4n4g3pfee6491hc0brc4i.apps.googleusercontent.com&redirect_uri=urn%3aietf%3awg%3aoauth%3a2.0%3aoob&response_type=code&scope=email%20https%3a%2f%2fwww.googleapis.com%2fauth%2fdocs.test%20https%3a%2f%2fwww.googleapis.com%2fauth%2fdrive%20https%3a%2f%2fwww.googleapis.com%2fauth%2fdrive.photos.readonly%20https%3a%2f%2fwww.googleapis.com%2fauth%2fpeopleapi.readonly\n",
            "\n",
            "Enter your authorization code:\n",
            "··········\n",
            "Mounted at /content/gdrive\n"
          ],
          "name": "stdout"
        }
      ]
    },
    {
      "cell_type": "markdown",
      "metadata": {
        "id": "78PwjL4XWILQ"
      },
      "source": [
        "## 초기 파라미터 세팅 & EDA"
      ]
    },
    {
      "cell_type": "code",
      "metadata": {
        "id": "h7igo9zQGUTd"
      },
      "source": [
        "import pandas as pd\n",
        "import numpy as np\n",
        "import os\n",
        "import sys\n",
        "import matplotlib.pyplot as plt\n",
        "import seaborn as sns\n",
        "import torch\n",
        "\n",
        "CUR_PATH = './gdrive/My Drive/IGPS/software/'\n",
        "DATA_PATH = './gdrive/My Drive/IGPS/software/UCI_HAR_Dataset/'\n",
        "\n",
        "temp = './gdrive/My Drive/IGPS/software/kaggle/data/'\n"
      ],
      "execution_count": null,
      "outputs": []
    },
    {
      "cell_type": "markdown",
      "metadata": {
        "id": "Bir06-CiWNCf"
      },
      "source": [
        "## 데이터 전처리 & 데이터 로드"
      ]
    },
    {
      "cell_type": "code",
      "metadata": {
        "id": "CNKL9QpqJaGy"
      },
      "source": [
        "def load_data(raw_data_path):\n",
        "    \n",
        "    # This for processing the dataset from scratch\n",
        "    # After downloading the dataset, put it to somewhere that str_folder can find\n",
        "    str_folder = raw_data_path \n",
        "\n",
        "    INPUT_SIGNAL_TYPES = [\n",
        "        \"body_acc_x_\",\n",
        "        \"body_acc_y_\",\n",
        "        \"body_acc_z_\",\n",
        "        \"body_gyro_x_\",\n",
        "        \"body_gyro_y_\",\n",
        "        \"body_gyro_z_\",\n",
        "        \"total_acc_x_\",\n",
        "        \"total_acc_y_\",\n",
        "        \"total_acc_z_\"\n",
        "    ]\n",
        "\n",
        "    str_train_files = [str_folder + 'train/' + 'Inertial Signals/' + item + 'train.txt' for item in\n",
        "                        INPUT_SIGNAL_TYPES]\n",
        "    str_test_files = [str_folder + 'test/' + 'Inertial Signals/' +\n",
        "                        item + 'test.txt' for item in INPUT_SIGNAL_TYPES]\n",
        "    str_train_y = str_folder + 'train/y_train.txt'\n",
        "    str_test_y = str_folder + 'test/y_test.txt'\n",
        "\n",
        "    X_train = format_data_x(str_train_files)\n",
        "    X_test = format_data_x(str_test_files)\n",
        "    Y_train = format_data_y(str_train_y)\n",
        "    Y_test = format_data_y(str_test_y)\n",
        "\n",
        "    return X_train, onehot_to_label(Y_train), X_test, onehot_to_label(Y_test)\n",
        "\n",
        "# This is for parsing the X data, you can ignore it if you do not need preprocessing\n",
        "def format_data_x(datafile):\n",
        "    x_data = None\n",
        "    for item in datafile:\n",
        "        item_data = np.loadtxt(item, dtype=np.float)\n",
        "        if x_data is None:\n",
        "            x_data = np.zeros((len(item_data), 1))\n",
        "        x_data = np.hstack((x_data, item_data))\n",
        "    x_data = x_data[:, 1:]\n",
        "    print(x_data.shape)\n",
        "    X = None\n",
        "    for i in range(len(x_data)):\n",
        "        row = np.asarray(x_data[i, :])\n",
        "        row = row.reshape(9, 128).T\n",
        "        if X is None:\n",
        "            X = np.zeros((len(x_data), 128, 9))\n",
        "        X[i] = row\n",
        "    print(X.shape)\n",
        "    return X\n",
        "\n",
        "\n",
        "# This is for parsing the Y data, you can ignore it if you do not need preprocessing\n",
        "def format_data_y(datafile):\n",
        "    data = np.loadtxt(datafile, dtype=np.int) - 1\n",
        "    YY = np.eye(6)[data]\n",
        "    return YY\n",
        "\n",
        "def onehot_to_label(y_onehot):\n",
        "    a = np.argwhere(y_onehot == 1)\n",
        "    return a[:, -1]"
      ],
      "execution_count": null,
      "outputs": []
    },
    {
      "cell_type": "code",
      "metadata": {
        "id": "GmK-zUG4_Hss",
        "colab": {
          "base_uri": "https://localhost:8080/",
          "height": 85
        },
        "outputId": "9d03d7a5-c735-4e1c-97da-139ac2fdb44e"
      },
      "source": [
        "x_train, y_train, x_test, y_test = load_data(DATA_PATH)"
      ],
      "execution_count": null,
      "outputs": [
        {
          "output_type": "stream",
          "text": [
            "(7352, 1152)\n",
            "(7352, 128, 9)\n",
            "(2947, 1152)\n",
            "(2947, 128, 9)\n"
          ],
          "name": "stdout"
        }
      ]
    },
    {
      "cell_type": "code",
      "metadata": {
        "id": "bafGCCjM_3c5"
      },
      "source": [
        "print(\"hello\")"
      ],
      "execution_count": null,
      "outputs": []
    }
  ]
}